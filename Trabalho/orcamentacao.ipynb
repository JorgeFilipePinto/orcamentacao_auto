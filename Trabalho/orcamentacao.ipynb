{
 "cells": [
  {
   "cell_type": "code",
   "execution_count": 16,
   "metadata": {},
   "outputs": [
    {
     "name": "stdout",
     "output_type": "stream",
     "text": [
      "[{'Name': 'serra1', 'Price': 15, 'Código': 12}, {'Name': 'Serra2', 'Price': 15, 'Código': 10}, {'Name': 'Serra3', 'Price': 20, 'Código': 11}, {'Name': 'Serra4', 'Price': 30, 'Código': 12}, {'Name': 'Serra5', 'Price': 25, 'Código': 13}, {'Name': 'serra6', 'Price': 15, 'Código': 14}, {'Name': 'serra7', 'Price': 15, 'Código': 15}, {'Name': 'serra8', 'Price': 15, 'Código': 16}, {'Name': 'serra9', 'Price': 15, 'Código': 17}, {'Name': 'serra10', 'Price': 15, 'Código': 18}, {'Name': 'serra11', 'Price': 15, 'Código': 19}, {'Name': 'serra12', 'Price': 15, 'Código': 20}, {'Name': 'serra13', 'Price': 15, 'Código': 21}]\n"
     ]
    }
   ],
   "source": [
    "import json\n",
    "\n",
    "\n",
    "with open('dados.json', encoding='utf-8') as data_base:\n",
    "    dados = json.load(data_base)\n",
    "print(dados)\n",
    "\n"
   ]
  },
  {
   "cell_type": "code",
   "execution_count": 43,
   "metadata": {},
   "outputs": [
    {
     "name": "stdout",
     "output_type": "stream",
     "text": [
      "\n",
      "   Produtos da lista\n",
      "_______________________\n",
      "Código             Name\n",
      "\n",
      "12              serra1\n",
      "10              Serra2\n",
      "11              Serra3\n",
      "12              Serra4\n",
      "13              Serra5\n",
      "14              serra6\n",
      "15              serra7\n",
      "16              serra8\n",
      "17              serra9\n",
      "18              serra10\n",
      "19              serra11\n",
      "20              serra12\n",
      "21              serra13\n"
     ]
    }
   ],
   "source": [
    "print(\"\"\"\n",
    "   Produtos da lista\n",
    "_______________________\n",
    "Código             Name\n",
    "\"\"\")\n",
    "for i in dados:\n",
    "    print(i['Código'], '            ', i['Name'])\n"
   ]
  },
  {
   "attachments": {},
   "cell_type": "markdown",
   "metadata": {},
   "source": [
    "#apresentação dos items desponiveis\n",
    "\n",
    "\n",
    "#criação de segunda base de dados para acumulação de items adquiridos\n",
    "#ciclo while lê o elemennto do dic guarda em variavel, usa-se a variavel \n",
    "# como fonte de apresentação do nome na input do utilizador\n",
    "#Quando o utilizador inserir o valor o mesmo é guardado numa variavel correspondente"
   ]
  },
  {
   "cell_type": "code",
   "execution_count": 46,
   "metadata": {},
   "outputs": [
    {
     "name": "stdout",
     "output_type": "stream",
     "text": [
      "[]\n"
     ]
    }
   ],
   "source": [
    "selec = int(input('Novo: 1, Editar: 2, Sair: 0'))\n",
    "artigos = []\n",
    "while selec != 0:\n",
    "\n",
    "    if selec == 1:\n",
    "        for i in dados:\n",
    "            qua = int(input('Quantidade desejada de '+ i['Name']))\n",
    "            print(i['Name'], i['Price'])\n",
    "            artigos.append(qua)\n",
    "   \n",
    "    elif selec == 2:\n",
    "        print(artigos)\n",
    "\n",
    "    selec = int(input('Novo: 1, Editar: 2, Sair: 0'))\n",
    "print(artigos)"
   ]
  },
  {
   "cell_type": "code",
   "execution_count": 63,
   "metadata": {},
   "outputs": [
    {
     "name": "stdout",
     "output_type": "stream",
     "text": [
      "{'item1': 100}\n",
      "{'item1': 100, 'item2': 200}\n",
      "{'item1': 100, 'item2': 200, 'item3': 300}\n",
      "{'item1': 100, 'item2': 200, 'item3': 300, 'item4': 400}\n",
      "{'item1': 100, 'item2': 200, 'item3': 300, 'item4': 400}\n",
      "{'item1': 100, 'item2': 200, 'item3': 300, 'item4': 400}\n"
     ]
    }
   ],
   "source": [
    "selec = int(input('Novo: 1, Editar: 2, Sair: 0'))\n",
    "artigos = {}\n",
    "while selec != 0:\n",
    "\n",
    "    if selec == 1:\n",
    "    \n",
    "        prod = input('Nome)')\n",
    "        qua = int(input('Quantidade'))\n",
    "        artigos[prod] = qua\n",
    "        print(artigos)\n",
    "        selec = int(input('Novo: 1, Editar: 2, Sair: 0'))\n",
    "    elif selec == 2:\n",
    "        print(artigos)\n",
    "        selec = int(input('Novo: 1, Editar: 2, Sair: 0'))\n",
    " \n",
    "    print(\"\"\"\n",
    "    _____________________________________________________________________________\n",
    "    |                                                                            |\n",
    "    |                Escola Superior de Gestão e Tecnologia de Lamego            |\n",
    "    |----------------------------------------------------------------------------|\n",
    "    |                                 Orçamento                                  |\n",
    "    |----------------------------------------------------------------------------|\n",
    "    \"\"\")\n",
    "\n",
    "    for k,v in artigos.items():\n",
    "        print(k,'                                                            ', v )"
   ]
  },
  {
   "cell_type": "code",
   "execution_count": null,
   "metadata": {},
   "outputs": [],
   "source": [
    "print(\"\"\"\n",
    "_____________________________________________________________________________\n",
    "|                                                                            |\n",
    "|                Escola Superior de Gestão e Tecnologia de Lamego            |\n",
    "|----------------------------------------------------------------------------|\n",
    "|                                 Orçamento                                  |\n",
    "|----------------------------------------------------------------------------|\n",
    "\"\"\")\n",
    "\n",
    "#print('|    Item2                                               ', Variavel,     '  |')\n",
    "#print('|                                                                            |')\n",
    "#print('|                                                                            |')\n",
    "#print('|                                                Total S/ IVA:', Variavel, ' |')\n",
    "#print('|                                                         IVA:', Variavel, ' |')\n",
    "#print('|                                               Total a Pagar:', Variavel, ' |')\n",
    "#print('|____________________________________________________________________________|')\n"
   ]
  }
 ],
 "metadata": {
  "kernelspec": {
   "display_name": "Python 3.9.7 ('base')",
   "language": "python",
   "name": "python3"
  },
  "language_info": {
   "codemirror_mode": {
    "name": "ipython",
    "version": 3
   },
   "file_extension": ".py",
   "mimetype": "text/x-python",
   "name": "python",
   "nbconvert_exporter": "python",
   "pygments_lexer": "ipython3",
   "version": "3.9.7"
  },
  "orig_nbformat": 4,
  "vscode": {
   "interpreter": {
    "hash": "9412b45e6a57aa9914730508726d49801d3b2c579f461e1fb13c705887a7b1f6"
   }
  }
 },
 "nbformat": 4,
 "nbformat_minor": 2
}
