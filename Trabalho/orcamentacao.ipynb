{
 "cells": [
  {
   "cell_type": "code",
   "execution_count": 16,
   "metadata": {},
   "outputs": [
    {
     "name": "stdout",
     "output_type": "stream",
     "text": [
      "[{'Name': 'serra1', 'Price': 15, 'Código': 12}, {'Name': 'Serra2', 'Price': 15, 'Código': 10}, {'Name': 'Serra3', 'Price': 20, 'Código': 11}, {'Name': 'Serra4', 'Price': 30, 'Código': 12}, {'Name': 'Serra5', 'Price': 25, 'Código': 13}, {'Name': 'serra6', 'Price': 15, 'Código': 14}, {'Name': 'serra7', 'Price': 15, 'Código': 15}, {'Name': 'serra8', 'Price': 15, 'Código': 16}, {'Name': 'serra9', 'Price': 15, 'Código': 17}, {'Name': 'serra10', 'Price': 15, 'Código': 18}, {'Name': 'serra11', 'Price': 15, 'Código': 19}, {'Name': 'serra12', 'Price': 15, 'Código': 20}, {'Name': 'serra13', 'Price': 15, 'Código': 21}]\n"
     ]
    }
   ],
   "source": [
    "import json\n",
    "\n",
    "\n",
    "with open('dados.json', encoding='utf-8') as data_base:\n",
    "    dados = json.load(data_base)\n",
    "print(dados)\n",
    "\n"
   ]
  },
  {
   "attachments": {},
   "cell_type": "markdown",
   "metadata": {},
   "source": [
    "#apresentação dos items desponiveis\n",
    "\n",
    "\n",
    "#criação de segunda base de dados para acumulação de items adquiridos\n",
    "#ciclo while lê o elemennto do dic guarda em variavel, usa-se a variavel \n",
    "# como fonte de apresentação do nome na input do utilizador\n",
    "#Quando o utilizador inserir o valor o mesmo é guardado numa variavel correspondente"
   ]
  },
  {
   "cell_type": "code",
   "execution_count": 29,
   "metadata": {},
   "outputs": [
    {
     "name": "stdout",
     "output_type": "stream",
     "text": [
      "serra1 15\n",
      "[12]\n",
      "Serra2 15\n",
      "[12, 12]\n",
      "Serra3 20\n",
      "[12, 12, 12]\n",
      "Serra4 30\n",
      "[12, 12, 12, 12]\n",
      "Serra5 25\n",
      "[12, 12, 12, 12, 12]\n",
      "serra6 15\n",
      "[12, 12, 12, 12, 12, 12]\n",
      "serra7 15\n",
      "[12, 12, 12, 12, 12, 12, 12]\n",
      "serra8 15\n",
      "[12, 12, 12, 12, 12, 12, 12, 12]\n",
      "serra9 15\n",
      "[12, 12, 12, 12, 12, 12, 12, 12, 12]\n",
      "serra10 15\n",
      "[12, 12, 12, 12, 12, 12, 12, 12, 12, 12]\n"
     ]
    },
    {
     "ename": "ValueError",
     "evalue": "invalid literal for int() with base 10: ''",
     "output_type": "error",
     "traceback": [
      "\u001b[1;31m---------------------------------------------------------------------------\u001b[0m",
      "\u001b[1;31mValueError\u001b[0m                                Traceback (most recent call last)",
      "\u001b[1;32m~\\AppData\\Local\\Temp/ipykernel_3868/920541361.py\u001b[0m in \u001b[0;36m<module>\u001b[1;34m\u001b[0m\n\u001b[0;32m      5\u001b[0m     \u001b[1;32mif\u001b[0m \u001b[0mselec\u001b[0m \u001b[1;33m==\u001b[0m \u001b[1;36m1\u001b[0m\u001b[1;33m:\u001b[0m\u001b[1;33m\u001b[0m\u001b[1;33m\u001b[0m\u001b[0m\n\u001b[0;32m      6\u001b[0m         \u001b[1;32mfor\u001b[0m \u001b[0mi\u001b[0m \u001b[1;32min\u001b[0m \u001b[0mdados\u001b[0m\u001b[1;33m:\u001b[0m\u001b[1;33m\u001b[0m\u001b[1;33m\u001b[0m\u001b[0m\n\u001b[1;32m----> 7\u001b[1;33m             \u001b[0mqua\u001b[0m \u001b[1;33m=\u001b[0m \u001b[0mint\u001b[0m\u001b[1;33m(\u001b[0m\u001b[0minput\u001b[0m\u001b[1;33m(\u001b[0m\u001b[1;34m'Quantidade desejada de '\u001b[0m\u001b[1;33m+\u001b[0m \u001b[0mi\u001b[0m\u001b[1;33m[\u001b[0m\u001b[1;34m'Name'\u001b[0m\u001b[1;33m]\u001b[0m\u001b[1;33m)\u001b[0m\u001b[1;33m)\u001b[0m\u001b[1;33m\u001b[0m\u001b[1;33m\u001b[0m\u001b[0m\n\u001b[0m\u001b[0;32m      8\u001b[0m             \u001b[0mprint\u001b[0m\u001b[1;33m(\u001b[0m\u001b[0mi\u001b[0m\u001b[1;33m[\u001b[0m\u001b[1;34m'Name'\u001b[0m\u001b[1;33m]\u001b[0m\u001b[1;33m,\u001b[0m \u001b[1;33m(\u001b[0m\u001b[0mi\u001b[0m\u001b[1;33m[\u001b[0m\u001b[1;34m'Price'\u001b[0m\u001b[1;33m]\u001b[0m\u001b[1;33m)\u001b[0m\u001b[1;33m)\u001b[0m\u001b[1;33m\u001b[0m\u001b[1;33m\u001b[0m\u001b[0m\n\u001b[0;32m      9\u001b[0m             \u001b[0martigos\u001b[0m\u001b[1;33m.\u001b[0m\u001b[0mappend\u001b[0m\u001b[1;33m(\u001b[0m\u001b[0mqua\u001b[0m\u001b[1;33m)\u001b[0m\u001b[1;33m\u001b[0m\u001b[1;33m\u001b[0m\u001b[0m\n",
      "\u001b[1;31mValueError\u001b[0m: invalid literal for int() with base 10: ''"
     ]
    }
   ],
   "source": [
    "selec = int(input('Novo: 1, Editar: 2, Sair: 0'))\n",
    "artigos = []\n",
    "while selec != 0:\n",
    "\n",
    "    if selec == 1:\n",
    "        for i in dados:\n",
    "            qua = int(input('Quantidade desejada de '+ i['Name']))\n",
    "            print(i['Name'], (i['Price']))\n",
    "            artigos.append(qua)\n",
    "   \n",
    "    elif selec == 2:\n",
    "        print(artigos)\n",
    "\n",
    "    elif selec == 0:\n",
    "        print(artigos)\n",
    "\n",
    "    selec = int(input('Novo: 1, Editar: 2, Sair: 0'))"
   ]
  },
  {
   "cell_type": "code",
   "execution_count": null,
   "metadata": {},
   "outputs": [],
   "source": []
  }
 ],
 "metadata": {
  "kernelspec": {
   "display_name": "Python 3.9.7 ('base')",
   "language": "python",
   "name": "python3"
  },
  "language_info": {
   "codemirror_mode": {
    "name": "ipython",
    "version": 3
   },
   "file_extension": ".py",
   "mimetype": "text/x-python",
   "name": "python",
   "nbconvert_exporter": "python",
   "pygments_lexer": "ipython3",
   "version": "3.9.7"
  },
  "orig_nbformat": 4,
  "vscode": {
   "interpreter": {
    "hash": "9412b45e6a57aa9914730508726d49801d3b2c579f461e1fb13c705887a7b1f6"
   }
  }
 },
 "nbformat": 4,
 "nbformat_minor": 2
}
