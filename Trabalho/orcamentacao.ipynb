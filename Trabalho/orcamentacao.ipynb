{
 "cells": [
  {
   "cell_type": "code",
   "execution_count": 16,
   "metadata": {},
   "outputs": [
    {
     "name": "stdout",
     "output_type": "stream",
     "text": [
      "[{'Name': 'serra1', 'Price': 15, 'Código': 12}, {'Name': 'Serra2', 'Price': 15, 'Código': 10}, {'Name': 'Serra3', 'Price': 20, 'Código': 11}, {'Name': 'Serra4', 'Price': 30, 'Código': 12}, {'Name': 'Serra5', 'Price': 25, 'Código': 13}, {'Name': 'serra6', 'Price': 15, 'Código': 14}, {'Name': 'serra7', 'Price': 15, 'Código': 15}, {'Name': 'serra8', 'Price': 15, 'Código': 16}, {'Name': 'serra9', 'Price': 15, 'Código': 17}, {'Name': 'serra10', 'Price': 15, 'Código': 18}, {'Name': 'serra11', 'Price': 15, 'Código': 19}, {'Name': 'serra12', 'Price': 15, 'Código': 20}, {'Name': 'serra13', 'Price': 15, 'Código': 21}]\n"
     ]
    }
   ],
   "source": [
    "import json\n",
    "\n",
    "\n",
    "with open('dados.json', encoding='utf-8') as data_base:\n",
    "    dados = json.load(data_base)\n",
    "print(dados)\n",
    "\n"
   ]
  },
  {
   "cell_type": "code",
   "execution_count": 43,
   "metadata": {},
   "outputs": [
    {
     "name": "stdout",
     "output_type": "stream",
     "text": [
      "\n",
      "   Produtos da lista\n",
      "_______________________\n",
      "Código             Name\n",
      "\n",
      "12              serra1\n",
      "10              Serra2\n",
      "11              Serra3\n",
      "12              Serra4\n",
      "13              Serra5\n",
      "14              serra6\n",
      "15              serra7\n",
      "16              serra8\n",
      "17              serra9\n",
      "18              serra10\n",
      "19              serra11\n",
      "20              serra12\n",
      "21              serra13\n"
     ]
    }
   ],
   "source": [
    "print(\"\"\"\n",
    "   Produtos da lista\n",
    "_______________________\n",
    "Código             Name\n",
    "\"\"\")\n",
    "for i in dados:\n",
    "    print(i['Código'], '            ', i['Name'])\n"
   ]
  },
  {
   "attachments": {},
   "cell_type": "markdown",
   "metadata": {},
   "source": [
    "#apresentação dos items desponiveis\n",
    "\n",
    "\n",
    "#criação de segunda base de dados para acumulação de items adquiridos\n",
    "#ciclo while lê o elemennto do dic guarda em variavel, usa-se a variavel \n",
    "# como fonte de apresentação do nome na input do utilizador\n",
    "#Quando o utilizador inserir o valor o mesmo é guardado numa variavel correspondente"
   ]
  },
  {
   "cell_type": "code",
   "execution_count": 73,
   "metadata": {},
   "outputs": [
    {
     "name": "stdout",
     "output_type": "stream",
     "text": [
      "Menu principal\n",
      "1 - Inserir novo artigo no orçamento\n",
      "2 - Editar artigos do orçamento\n",
      "3 - Terminar e emitir orçamento\n",
      "4 - Sair\n",
      "Inserir novo artigo no orçamento\n",
      "1 - Inserir artigo único\n",
      "2 - Inserir artigos múltiplos\n",
      "3 - Voltar ao menu principal\n"
     ]
    },
    {
     "ename": "ValueError",
     "evalue": "invalid literal for int() with base 10: ''",
     "output_type": "error",
     "traceback": [
      "\u001b[1;31m---------------------------------------------------------------------------\u001b[0m",
      "\u001b[1;31mValueError\u001b[0m                                Traceback (most recent call last)",
      "\u001b[1;32m~\\AppData\\Local\\Temp/ipykernel_3868/137050993.py\u001b[0m in \u001b[0;36m<module>\u001b[1;34m\u001b[0m\n\u001b[0;32m     25\u001b[0m         \u001b[1;32mwhile\u001b[0m \u001b[0mmn1_1\u001b[0m \u001b[1;33m!=\u001b[0m \u001b[1;36m3\u001b[0m\u001b[1;33m:\u001b[0m\u001b[1;33m\u001b[0m\u001b[1;33m\u001b[0m\u001b[0m\n\u001b[0;32m     26\u001b[0m             \u001b[0mmenu1_1\u001b[0m\u001b[1;33m(\u001b[0m\u001b[1;33m)\u001b[0m\u001b[1;33m\u001b[0m\u001b[1;33m\u001b[0m\u001b[0m\n\u001b[1;32m---> 27\u001b[1;33m             \u001b[0mmn1_1\u001b[0m \u001b[1;33m=\u001b[0m \u001b[0mint\u001b[0m\u001b[1;33m(\u001b[0m\u001b[0minput\u001b[0m\u001b[1;33m(\u001b[0m\u001b[1;34m'Qual a sua opção'\u001b[0m\u001b[1;33m)\u001b[0m\u001b[1;33m)\u001b[0m\u001b[1;33m\u001b[0m\u001b[1;33m\u001b[0m\u001b[0m\n\u001b[0m\u001b[0;32m     28\u001b[0m             \u001b[1;32mif\u001b[0m \u001b[0mmn1_1\u001b[0m \u001b[1;33m==\u001b[0m \u001b[1;36m1\u001b[0m\u001b[1;33m:\u001b[0m\u001b[1;33m\u001b[0m\u001b[1;33m\u001b[0m\u001b[0m\n\u001b[0;32m     29\u001b[0m                 \u001b[0mprint\u001b[0m\u001b[1;33m(\u001b[0m\u001b[1;34m'Inserir artigo único'\u001b[0m\u001b[1;33m)\u001b[0m\u001b[1;33m\u001b[0m\u001b[1;33m\u001b[0m\u001b[0m\n",
      "\u001b[1;31mValueError\u001b[0m: invalid literal for int() with base 10: ''"
     ]
    }
   ],
   "source": [
    "def menu():\n",
    "    print('1 - Inserir novo artigo no orçamento')\n",
    "    print('2 - Editar artigos do orçamento')\n",
    "    print('3 - Terminar e emitir orçamento')\n",
    "    print('4 - Sair')\n",
    "\n",
    "def menu1_1():\n",
    "    print('1 - Inserir artigo único')\n",
    "    print('2 - Inserir artigos múltiplos')\n",
    "    print('3 - Voltar ao menu principal')\n",
    "\n",
    "def menu1_2():\n",
    "    print('1 - Editar')\n",
    "    print('2 - Voltar ao menu principal')\n",
    "\n",
    "artigos = {}\n",
    "mn1 = 1\n",
    "while mn1 != 4:\n",
    "    print('Menu principal')\n",
    "    menu()\n",
    "    mn1 = int(input('Qual a sua opção'))\n",
    "    if mn1 == 1:\n",
    "        print('Inserir novo artigo no orçamento')\n",
    "        mn1_1 = 1\n",
    "        while mn1_1 != 3:\n",
    "            menu1_1()\n",
    "            mn1_1 = int(input('Qual a sua opção'))\n",
    "            if mn1_1 == 1:\n",
    "                print('Inserir artigo único')\n",
    "                prod = input('Nome)')\n",
    "                qua = int(input('Quantidade'))\n",
    "                artigos[prod] = qua\n",
    "                print(artigos)\n",
    "            elif mn1_1 == 2:\n",
    "                print('Inserir artigos múltiplos')\n",
    "                loop = 1\n",
    "                loop = int(input('Quantos artigos deseja inserir?'))\n",
    "                for i in range(loop):\n",
    "                    prod = input('Nome)')\n",
    "                    qua = int(input('Quantidade'))\n",
    "                    artigos[prod] = qua\n",
    "                    print(artigos)\n",
    "    elif mn1 == 2:\n",
    "        print('Editar artigos do orçamento')\n",
    "        mn1_2 = 1\n",
    "        while mn1_2 != 2:\n",
    "            menu1_2()\n",
    "            mn1_2 = int(input('Qual a sua opção'))\n",
    "            if mn1_2 == 1:\n",
    "                print('Editar artigos')\n",
    "                print(artigos)\n",
    "    elif mn1 == 3:\n",
    "        print('Terminar e emitir orçamento')\n",
    "        \n",
    "iva = float(input('Qual o valor IVA a faturar?'))\n",
    "print(\"\"\"\n",
    "    _____________________________________________________________________________\n",
    "    |                                                                            |\n",
    "    |                Escola Superior de Gestão e Tecnologia de Lamego            |\n",
    "    |----------------------------------------------------------------------------|\n",
    "    |                                 Orçamento                                  |\n",
    "    |----------------------------------------------------------------------------|\n",
    "    \"\"\")\n",
    "count = 0\n",
    "for k,v in artigos.items():\n",
    "    count = count + v\n",
    "    print('     ', k,'                                                            ', v )\n",
    "\n",
    "print('                                                Total S/ IVA:', count)\n",
    "print('                                                         IVA:', iva)\n",
    "print('                                               Total a Pagar:', count * iva)\n",
    "\n",
    "\n"
   ]
  },
  {
   "cell_type": "code",
   "execution_count": 63,
   "metadata": {},
   "outputs": [
    {
     "name": "stdout",
     "output_type": "stream",
     "text": [
      "{'item1': 100}\n",
      "{'item1': 100, 'item2': 200}\n",
      "{'item1': 100, 'item2': 200, 'item3': 300}\n",
      "{'item1': 100, 'item2': 200, 'item3': 300, 'item4': 400}\n",
      "{'item1': 100, 'item2': 200, 'item3': 300, 'item4': 400}\n",
      "{'item1': 100, 'item2': 200, 'item3': 300, 'item4': 400}\n"
     ]
    }
   ],
   "source": [
    "selec = int(input('Novo: 1, Editar: 2, Sair: 0'))\n",
    "artigos = {}\n",
    "while selec != 0:\n",
    "\n",
    "    if selec == 1:\n",
    "    \n",
    "        prod = input('Nome)')\n",
    "        qua = int(input('Quantidade'))\n",
    "        artigos[prod] = qua\n",
    "        print(artigos)\n",
    "        selec = int(input('Novo: 1, Editar: 2, Sair: 0'))\n",
    "    elif selec == 2:\n",
    "        print(artigos)\n",
    "        selec = int(input('Novo: 1, Editar: 2, Sair: 0'))\n",
    " \n",
    "    print(\"\"\"\n",
    "    _____________________________________________________________________________\n",
    "    |                                                                            |\n",
    "    |                Escola Superior de Gestão e Tecnologia de Lamego            |\n",
    "    |----------------------------------------------------------------------------|\n",
    "    |                                 Orçamento                                  |\n",
    "    |----------------------------------------------------------------------------|\n",
    "    \"\"\")\n",
    "\n",
    "    for k,v in artigos.items():\n",
    "        print(k,'                                                            ', v )"
   ]
  },
  {
   "cell_type": "code",
   "execution_count": null,
   "metadata": {},
   "outputs": [],
   "source": [
    "print(\"\"\"\n",
    "_____________________________________________________________________________\n",
    "|                                                                            |\n",
    "|                Escola Superior de Gestão e Tecnologia de Lamego            |\n",
    "|----------------------------------------------------------------------------|\n",
    "|                                 Orçamento                                  |\n",
    "|----------------------------------------------------------------------------|\n",
    "\"\"\")\n",
    "\n",
    "#print('|    Item2                                               ', Variavel,     '  |')\n",
    "#print('|                                                                            |')\n",
    "#print('|                                                                            |')\n",
    "#print('|                                                Total S/ IVA:', Variavel, ' |')\n",
    "#print('|                                                         IVA:', Variavel, ' |')\n",
    "#print('|                                               Total a Pagar:', Variavel, ' |')\n",
    "#print('|____________________________________________________________________________|')\n"
   ]
  },
  {
   "cell_type": "code",
   "execution_count": 68,
   "metadata": {},
   "outputs": [
    {
     "name": "stdout",
     "output_type": "stream",
     "text": [
      "1 - uma opção\n",
      "2 - outra opção\n",
      "3 - terminar\n",
      "1 - uma subopção\n",
      "2 - retornar ao menu anterior\n",
      "uma subopção\n",
      "1 - uma subopção\n",
      "2 - retornar ao menu anterior\n",
      "1 - uma opção\n",
      "2 - outra opção\n",
      "3 - terminar\n"
     ]
    }
   ],
   "source": [
    "def menu():\n",
    "    print('1 - uma opção')\n",
    "    print('2 - outra opção')\n",
    "    print('3 - terminar')\n",
    "\n",
    "def submenu1():\n",
    "    print('1 - uma subopção')\n",
    "    print('2 - retornar ao menu anterior')\n",
    "\n",
    "op = 1\n",
    "while op != 3:\n",
    "    menu()\n",
    "    op = int(input(\"\\tOpção: \"))\n",
    "    if op == 1:\n",
    "        subop = 1\n",
    "        while subop != 2:\n",
    "            submenu1()\n",
    "            subop = int(input(\"\\tOpção: \"))\n",
    "            if subop == 1:\n",
    "                print(\"uma subopção\")\n",
    "    elif op == 2:\n",
    "        print(\"opção 2\")\n",
    "        "
   ]
  }
 ],
 "metadata": {
  "kernelspec": {
   "display_name": "Python 3.9.7 ('base')",
   "language": "python",
   "name": "python3"
  },
  "language_info": {
   "codemirror_mode": {
    "name": "ipython",
    "version": 3
   },
   "file_extension": ".py",
   "mimetype": "text/x-python",
   "name": "python",
   "nbconvert_exporter": "python",
   "pygments_lexer": "ipython3",
   "version": "3.9.7"
  },
  "orig_nbformat": 4,
  "vscode": {
   "interpreter": {
    "hash": "9412b45e6a57aa9914730508726d49801d3b2c579f461e1fb13c705887a7b1f6"
   }
  }
 },
 "nbformat": 4,
 "nbformat_minor": 2
}
