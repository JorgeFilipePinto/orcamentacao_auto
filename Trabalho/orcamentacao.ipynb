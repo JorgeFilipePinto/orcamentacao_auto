{
 "cells": [
  {
   "cell_type": "code",
   "execution_count": 1,
   "metadata": {},
   "outputs": [
    {
     "name": "stdout",
     "output_type": "stream",
     "text": [
      "[{'Name': 'Item1', 'Price': 100, 'Código': 1111}, {'Name': 'Item2', 'Price': 100, 'Código': 2222}, {'Name': 'Item3', 'Price': 100, 'Código': 3333}, {'Name': 'Item4', 'Price': 100, 'Código': 4444}, {'Name': 'Item5', 'Price': 100, 'Código': 5555}, {'Name': 'Item6', 'Price': 100, 'Código': 6666}, {'Name': 'Item7', 'Price': 100, 'Código': 7777}]\n"
     ]
    }
   ],
   "source": [
    "import json\n",
    "\n",
    "\n",
    "with open('dados.json', encoding='utf-8') as data_base:\n",
    "    dados = json.load(data_base)\n",
    "print(dados)\n",
    "\n"
   ]
  },
  {
   "cell_type": "code",
   "execution_count": 43,
   "metadata": {},
   "outputs": [
    {
     "name": "stdout",
     "output_type": "stream",
     "text": [
      "\n",
      "   Produtos da lista\n",
      "_______________________\n",
      "Código             Name\n",
      "\n",
      "12              serra1\n",
      "10              Serra2\n",
      "11              Serra3\n",
      "12              Serra4\n",
      "13              Serra5\n",
      "14              serra6\n",
      "15              serra7\n",
      "16              serra8\n",
      "17              serra9\n",
      "18              serra10\n",
      "19              serra11\n",
      "20              serra12\n",
      "21              serra13\n"
     ]
    }
   ],
   "source": [
    "print(\"\"\"\n",
    "   Produtos da lista\n",
    "_______________________\n",
    "Código             Name\n",
    "\"\"\")\n",
    "for i in dados:\n",
    "    print(i['Código'], '            ', i['Name'])\n"
   ]
  },
  {
   "attachments": {},
   "cell_type": "markdown",
   "metadata": {},
   "source": [
    "#apresentação dos items desponiveis\n",
    "\n",
    "\n",
    "#criação de segunda base de dados para acumulação de items adquiridos\n",
    "#ciclo while lê o elemennto do dic guarda em variavel, usa-se a variavel \n",
    "# como fonte de apresentação do nome na input do utilizador\n",
    "#Quando o utilizador inserir o valor o mesmo é guardado numa variavel correspondente"
   ]
  },
  {
   "cell_type": "code",
   "execution_count": 73,
   "metadata": {},
   "outputs": [
    {
     "name": "stdout",
     "output_type": "stream",
     "text": [
      "Menu principal\n",
      "1 - Inserir novo artigo no orçamento\n",
      "2 - Editar artigos do orçamento\n",
      "3 - Terminar e emitir orçamento\n",
      "4 - Sair\n",
      "Inserir novo artigo no orçamento\n",
      "1 - Inserir artigo único\n",
      "2 - Inserir artigos múltiplos\n",
      "3 - Voltar ao menu principal\n"
     ]
    },
    {
     "ename": "ValueError",
     "evalue": "invalid literal for int() with base 10: ''",
     "output_type": "error",
     "traceback": [
      "\u001b[1;31m---------------------------------------------------------------------------\u001b[0m",
      "\u001b[1;31mValueError\u001b[0m                                Traceback (most recent call last)",
      "\u001b[1;32m~\\AppData\\Local\\Temp/ipykernel_3868/137050993.py\u001b[0m in \u001b[0;36m<module>\u001b[1;34m\u001b[0m\n\u001b[0;32m     25\u001b[0m         \u001b[1;32mwhile\u001b[0m \u001b[0mmn1_1\u001b[0m \u001b[1;33m!=\u001b[0m \u001b[1;36m3\u001b[0m\u001b[1;33m:\u001b[0m\u001b[1;33m\u001b[0m\u001b[1;33m\u001b[0m\u001b[0m\n\u001b[0;32m     26\u001b[0m             \u001b[0mmenu1_1\u001b[0m\u001b[1;33m(\u001b[0m\u001b[1;33m)\u001b[0m\u001b[1;33m\u001b[0m\u001b[1;33m\u001b[0m\u001b[0m\n\u001b[1;32m---> 27\u001b[1;33m             \u001b[0mmn1_1\u001b[0m \u001b[1;33m=\u001b[0m \u001b[0mint\u001b[0m\u001b[1;33m(\u001b[0m\u001b[0minput\u001b[0m\u001b[1;33m(\u001b[0m\u001b[1;34m'Qual a sua opção'\u001b[0m\u001b[1;33m)\u001b[0m\u001b[1;33m)\u001b[0m\u001b[1;33m\u001b[0m\u001b[1;33m\u001b[0m\u001b[0m\n\u001b[0m\u001b[0;32m     28\u001b[0m             \u001b[1;32mif\u001b[0m \u001b[0mmn1_1\u001b[0m \u001b[1;33m==\u001b[0m \u001b[1;36m1\u001b[0m\u001b[1;33m:\u001b[0m\u001b[1;33m\u001b[0m\u001b[1;33m\u001b[0m\u001b[0m\n\u001b[0;32m     29\u001b[0m                 \u001b[0mprint\u001b[0m\u001b[1;33m(\u001b[0m\u001b[1;34m'Inserir artigo único'\u001b[0m\u001b[1;33m)\u001b[0m\u001b[1;33m\u001b[0m\u001b[1;33m\u001b[0m\u001b[0m\n",
      "\u001b[1;31mValueError\u001b[0m: invalid literal for int() with base 10: ''"
     ]
    }
   ],
   "source": [
    "def menu():\n",
    "    print('1 - Inserir novo artigo no orçamento')\n",
    "    print('2 - Editar artigos do orçamento')\n",
    "    print('3 - Terminar e emitir orçamento')\n",
    "    print('4 - Sair')\n",
    "\n",
    "def menu1_1():\n",
    "    print('1 - Inserir artigo único')\n",
    "    print('2 - Inserir artigos múltiplos')\n",
    "    print('3 - Voltar ao menu principal')\n",
    "\n",
    "def menu1_2():\n",
    "    print('1 - Editar')\n",
    "    print('2 - Voltar ao menu principal')\n",
    "\n",
    "artigos = {}\n",
    "mn1 = 1\n",
    "while mn1 != 4:\n",
    "    print('Menu principal')\n",
    "    menu()\n",
    "    mn1 = int(input('Qual a sua opção'))\n",
    "    if mn1 == 1:\n",
    "        print('Inserir novo artigo no orçamento')\n",
    "        mn1_1 = 1\n",
    "        while mn1_1 != 3:\n",
    "            menu1_1()\n",
    "            mn1_1 = int(input('Qual a sua opção'))\n",
    "            if mn1_1 == 1:\n",
    "                print('Inserir artigo único')\n",
    "                prod = input('Nome)')\n",
    "                qua = int(input('Quantidade'))\n",
    "                artigos[prod] = qua\n",
    "                print(artigos)\n",
    "            elif mn1_1 == 2:\n",
    "                print('Inserir artigos múltiplos')\n",
    "                loop = 1\n",
    "                loop = int(input('Quantos artigos deseja inserir?'))\n",
    "                for i in range(loop):\n",
    "                    prod = input('Nome)')\n",
    "                    qua = int(input('Quantidade'))\n",
    "                    artigos[prod] = qua\n",
    "                    print(artigos)\n",
    "    elif mn1 == 2:\n",
    "        print('Editar artigos do orçamento')\n",
    "        mn1_2 = 1\n",
    "        while mn1_2 != 2:\n",
    "            menu1_2()\n",
    "            mn1_2 = int(input('Qual a sua opção'))\n",
    "            if mn1_2 == 1:\n",
    "                print('Editar artigos')\n",
    "                print(artigos)\n",
    "    elif mn1 == 3:\n",
    "        print('Terminar e emitir orçamento')\n",
    "        \n",
    "iva = float(input('Qual o valor IVA a faturar?'))\n",
    "print(\"\"\"\n",
    "    _____________________________________________________________________________\n",
    "    |                                                                            |\n",
    "    |                Escola Superior de Gestão e Tecnologia de Lamego            |\n",
    "    |----------------------------------------------------------------------------|\n",
    "    |                                 Orçamento                                  |\n",
    "    |----------------------------------------------------------------------------|\n",
    "    \"\"\")\n",
    "count = 0\n",
    "for k,v in artigos.items():\n",
    "    count = count + v\n",
    "    print('     ', k,'                                                            ', v )\n",
    "\n",
    "print('                                                Total S/ IVA:', count)\n",
    "print('                                                         IVA:', iva)\n",
    "print('                                               Total a Pagar:', count * iva)\n",
    "\n",
    "\n"
   ]
  },
  {
   "cell_type": "code",
   "execution_count": 63,
   "metadata": {},
   "outputs": [
    {
     "name": "stdout",
     "output_type": "stream",
     "text": [
      "{'item1': 100}\n",
      "{'item1': 100, 'item2': 200}\n",
      "{'item1': 100, 'item2': 200, 'item3': 300}\n",
      "{'item1': 100, 'item2': 200, 'item3': 300, 'item4': 400}\n",
      "{'item1': 100, 'item2': 200, 'item3': 300, 'item4': 400}\n",
      "{'item1': 100, 'item2': 200, 'item3': 300, 'item4': 400}\n"
     ]
    }
   ],
   "source": [
    "selec = int(input('Novo: 1, Editar: 2, Sair: 0'))\n",
    "artigos = {}\n",
    "while selec != 0:\n",
    "\n",
    "    if selec == 1:\n",
    "    \n",
    "        prod = input('Nome)')\n",
    "        qua = int(input('Quantidade'))\n",
    "        artigos[prod] = qua\n",
    "        print(artigos)\n",
    "        selec = int(input('Novo: 1, Editar: 2, Sair: 0'))\n",
    "    elif selec == 2:\n",
    "        print(artigos)\n",
    "        selec = int(input('Novo: 1, Editar: 2, Sair: 0'))\n",
    " \n",
    "    print(\"\"\"\n",
    "    _____________________________________________________________________________\n",
    "    |                                                                            |\n",
    "    |                Escola Superior de Gestão e Tecnologia de Lamego            |\n",
    "    |----------------------------------------------------------------------------|\n",
    "    |                                 Orçamento                                  |\n",
    "    |----------------------------------------------------------------------------|\n",
    "    \"\"\")\n",
    "\n",
    "    for k,v in artigos.items():\n",
    "        print(k,'                                                            ', v )"
   ]
  },
  {
   "cell_type": "code",
   "execution_count": null,
   "metadata": {},
   "outputs": [],
   "source": [
    "print(\"\"\"\n",
    "_____________________________________________________________________________\n",
    "|                                                                            |\n",
    "|                Escola Superior de Gestão e Tecnologia de Lamego            |\n",
    "|----------------------------------------------------------------------------|\n",
    "|                                 Orçamento                                  |\n",
    "|----------------------------------------------------------------------------|\n",
    "\"\"\")\n",
    "\n",
    "#print('|    Item2                                               ', Variavel,     '  |')\n",
    "#print('|                                                                            |')\n",
    "#print('|                                                                            |')\n",
    "#print('|                                                Total S/ IVA:', Variavel, ' |')\n",
    "#print('|                                                         IVA:', Variavel, ' |')\n",
    "#print('|                                               Total a Pagar:', Variavel, ' |')\n",
    "#print('|____________________________________________________________________________|')\n"
   ]
  },
  {
   "cell_type": "code",
   "execution_count": 68,
   "metadata": {},
   "outputs": [
    {
     "name": "stdout",
     "output_type": "stream",
     "text": [
      "1 - uma opção\n",
      "2 - outra opção\n",
      "3 - terminar\n",
      "1 - uma subopção\n",
      "2 - retornar ao menu anterior\n",
      "uma subopção\n",
      "1 - uma subopção\n",
      "2 - retornar ao menu anterior\n",
      "1 - uma opção\n",
      "2 - outra opção\n",
      "3 - terminar\n"
     ]
    }
   ],
   "source": [
    "def menu():\n",
    "    print('1 - uma opção')\n",
    "    print('2 - outra opção')\n",
    "    print('3 - terminar')\n",
    "\n",
    "def submenu1():\n",
    "    print('1 - uma subopção')\n",
    "    print('2 - retornar ao menu anterior')\n",
    "\n",
    "op = 1\n",
    "while op != 3:\n",
    "    menu()\n",
    "    op = int(input(\"\\tOpção: \"))\n",
    "    if op == 1:\n",
    "        subop = 1\n",
    "        while subop != 2:\n",
    "            submenu1()\n",
    "            subop = int(input(\"\\tOpção: \"))\n",
    "            if subop == 1:\n",
    "                print(\"uma subopção\")\n",
    "    elif op == 2:\n",
    "        print(\"opção 2\")\n",
    "        "
   ]
  },
  {
   "cell_type": "code",
   "execution_count": 20,
   "metadata": {},
   "outputs": [
    {
     "name": "stdout",
     "output_type": "stream",
     "text": [
      "2222 Item2\n"
     ]
    }
   ],
   "source": [
    "#print(dados)\n",
    "inserir = int(input('Insira o código?'))\n",
    "\n",
    "for i in dados:\n",
    "    \n",
    "    if inserir == i['Código']:\n",
    "        print(i['Código'], i['Name'])\n",
    "    else:\n",
    "        continue      "
   ]
  },
  {
   "cell_type": "code",
   "execution_count": 3,
   "metadata": {},
   "outputs": [
    {
     "name": "stdout",
     "output_type": "stream",
     "text": [
      "1- Inserir novo item\n",
      "2- Editar item\n",
      "3- deletar item\n"
     ]
    },
    {
     "ename": "TypeError",
     "evalue": "list indices must be integers or slices, not str",
     "output_type": "error",
     "traceback": [
      "\u001b[1;31m---------------------------------------------------------------------------\u001b[0m",
      "\u001b[1;31mTypeError\u001b[0m                                 Traceback (most recent call last)",
      "\u001b[1;32m~\\AppData\\Local\\Temp/ipykernel_16152/3745793413.py\u001b[0m in \u001b[0;36m<module>\u001b[1;34m\u001b[0m\n\u001b[0;32m     18\u001b[0m      \u001b[1;32mwith\u001b[0m \u001b[0mopen\u001b[0m\u001b[1;33m(\u001b[0m\u001b[1;34m\"dados.json\"\u001b[0m\u001b[1;33m,\u001b[0m \u001b[1;34m\"r\"\u001b[0m\u001b[1;33m)\u001b[0m \u001b[1;32mas\u001b[0m \u001b[0mjson_file\u001b[0m\u001b[1;33m:\u001b[0m\u001b[1;33m\u001b[0m\u001b[1;33m\u001b[0m\u001b[0m\n\u001b[0;32m     19\u001b[0m           \u001b[0mdata\u001b[0m \u001b[1;33m=\u001b[0m \u001b[0mjson\u001b[0m\u001b[1;33m.\u001b[0m\u001b[0mload\u001b[0m\u001b[1;33m(\u001b[0m\u001b[0mjson_file\u001b[0m\u001b[1;33m)\u001b[0m\u001b[1;33m\u001b[0m\u001b[1;33m\u001b[0m\u001b[0m\n\u001b[1;32m---> 20\u001b[1;33m      \u001b[0mdata\u001b[0m\u001b[1;33m[\u001b[0m\u001b[1;34m\"items\"\u001b[0m\u001b[1;33m]\u001b[0m\u001b[1;33m.\u001b[0m\u001b[0mappend\u001b[0m\u001b[1;33m(\u001b[0m\u001b[0mnew_item\u001b[0m\u001b[1;33m)\u001b[0m\u001b[1;33m\u001b[0m\u001b[1;33m\u001b[0m\u001b[0m\n\u001b[0m\u001b[0;32m     21\u001b[0m \u001b[1;33m\u001b[0m\u001b[0m\n\u001b[0;32m     22\u001b[0m      \u001b[1;32mwith\u001b[0m \u001b[0mopen\u001b[0m\u001b[1;33m(\u001b[0m\u001b[1;34m\"dados.json\"\u001b[0m\u001b[1;33m,\u001b[0m \u001b[1;34m\"w\"\u001b[0m\u001b[1;33m)\u001b[0m \u001b[1;32mas\u001b[0m \u001b[0mjson_file\u001b[0m\u001b[1;33m:\u001b[0m\u001b[1;33m\u001b[0m\u001b[1;33m\u001b[0m\u001b[0m\n",
      "\u001b[1;31mTypeError\u001b[0m: list indices must be integers or slices, not str"
     ]
    }
   ],
   "source": [
    "import json\n",
    "file1=\"dados.json\"\n",
    "\n",
    "print(\"1- Inserir novo item\")\n",
    "print(\"2- Editar item\")\n",
    "print(\"3- deletar item\")\n",
    "inicio= int(input('introduza a opção: '))\n",
    "\n",
    "if inicio == 1:\n",
    "     code_test= int(input('Introduza o código'))\n",
    "     name_test= input('Introduza o nome')\n",
    "     price_test= float(input('Introduza o preço'))\n",
    "     new_item = {\n",
    "          \"Name\": name_test,\n",
    "          \"Price\": price_test,\n",
    "          \"Code\": code_test\n",
    "     }\n",
    "\n",
    "     with open(file1, \"r\") as json_file:\n",
    "          data = json.load(json_file)\n",
    "     data[\"items\"].append(new_item)\n",
    "\n",
    "     with open(\"dados.json\", \"w\") as json_file:\n",
    "          json.dump(data, json_file, indent=4)\n",
    "\n",
    "if inicio == 2:\n",
    "     with open(file1, \"r\") as json_file:\n",
    "          data = json.load(json_file)\n",
    "     code__test= int(input('Codigo? '))\n",
    "\n",
    "     for item in data[\"items\"]:\n",
    "          if item[\"Code\"] == code__test:\n",
    "     \n",
    "               name__test= input(\"Nome?: \")\n",
    "               price__test= float(input(\"Preço?: \"))\n",
    "               item[\"Name\"] = name__test\n",
    "               item[\"Price\"] = price__test\n",
    "               break\n",
    "     with open(file1, \"w\") as json_file:\n",
    "          json.dump(data, json_file, indent=4)\n",
    "\n",
    "if inicio == 3:\n",
    "     with open(\"dados.json\", \"r\") as json_file:\n",
    "          data = json.load(json_file)\n",
    "\n",
    "     code_del= int(input('Introduz o Código do item a deletar: '))\n",
    "\n",
    "     for i, item in enumerate(data[\"items\"]):\n",
    "          if item[\"Code\"] == code_del:\n",
    "               del data[\"items\"][i]\n",
    "               break\n",
    "\n",
    "     with open(\"dados.json\", \"w\") as json_file:\n",
    "          json.dump(data, json_file,indent=4)"
   ]
  }
 ],
 "metadata": {
  "kernelspec": {
   "display_name": "Python 3.9.7 ('base')",
   "language": "python",
   "name": "python3"
  },
  "language_info": {
   "codemirror_mode": {
    "name": "ipython",
    "version": 3
   },
   "file_extension": ".py",
   "mimetype": "text/x-python",
   "name": "python",
   "nbconvert_exporter": "python",
   "pygments_lexer": "ipython3",
   "version": "3.9.7"
  },
  "orig_nbformat": 4,
  "vscode": {
   "interpreter": {
    "hash": "9412b45e6a57aa9914730508726d49801d3b2c579f461e1fb13c705887a7b1f6"
   }
  }
 },
 "nbformat": 4,
 "nbformat_minor": 2
}
