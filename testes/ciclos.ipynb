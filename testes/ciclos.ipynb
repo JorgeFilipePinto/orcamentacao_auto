{
 "cells": [
  {
   "cell_type": "code",
   "execution_count": null,
   "metadata": {},
   "outputs": [],
   "source": [
    "\n",
    "b={}\n",
    "print(b)\n",
    "\n",
    "for i in range (5):\n",
    "    x = input('')\n",
    "    b.append(x)\n",
    "\n",
    "\n",
    "\n",
    "print(b)"
   ]
  },
  {
   "cell_type": "code",
   "execution_count": 2,
   "metadata": {},
   "outputs": [
    {
     "name": "stdout",
     "output_type": "stream",
     "text": [
      "Inseriu 3 materiais á lista.\n",
      "['asdasd', 'asdasd', 'asdasd']\n"
     ]
    }
   ],
   "source": [
    "materiais = []\n",
    "count = 0\n",
    "x = input('Introduza o material ou insira 0 para sair!')\n",
    "while x != '0':\n",
    "    materiais.append(x)\n",
    "    count = count + 1\n",
    "    x = input('Introduza o material ou insira 0 para sair!')\n",
    "print('Inseriu', count, 'materiais á lista.')\n",
    "print(materiais)"
   ]
  },
  {
   "cell_type": "code",
   "execution_count": null,
   "metadata": {},
   "outputs": [],
   "source": [
    "x = 'tesaskdjbaksdjhas'\n",
    "\n",
    "b = input(x)"
   ]
  },
  {
   "cell_type": "code",
   "execution_count": 21,
   "metadata": {},
   "outputs": [],
   "source": [
    "dados ={\n",
    "        \"Nome\": \"serra\",\n",
    "        \"Preço\": 15\n",
    "    }\n",
    "dados1={\n",
    "        \"Nome\": \"Alicate\",\n",
    "        \"Preço\": 20    \n",
    "    }\n",
    "\n"
   ]
  },
  {
   "cell_type": "code",
   "execution_count": 28,
   "metadata": {},
   "outputs": [
    {
     "name": "stdout",
     "output_type": "stream",
     "text": [
      "{'Nome': 'serra', 'Preço': 15}\n",
      "Produto Preço 3 Unidades.\n"
     ]
    }
   ],
   "source": [
    "print (dados)\n",
    "for k,v in dados.items():\n",
    "    produto = input(v)\n",
    "print('Produto', k, produto, 'Unidades.')"
   ]
  }
 ],
 "metadata": {
  "kernelspec": {
   "display_name": "Python 3.9.7 ('base')",
   "language": "python",
   "name": "python3"
  },
  "language_info": {
   "codemirror_mode": {
    "name": "ipython",
    "version": 3
   },
   "file_extension": ".py",
   "mimetype": "text/x-python",
   "name": "python",
   "nbconvert_exporter": "python",
   "pygments_lexer": "ipython3",
   "version": "3.9.7"
  },
  "orig_nbformat": 4,
  "vscode": {
   "interpreter": {
    "hash": "9412b45e6a57aa9914730508726d49801d3b2c579f461e1fb13c705887a7b1f6"
   }
  }
 },
 "nbformat": 4,
 "nbformat_minor": 2
}
